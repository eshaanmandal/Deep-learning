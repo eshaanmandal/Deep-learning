{
 "cells": [
  {
   "cell_type": "code",
   "execution_count": 45,
   "id": "d9aa876b",
   "metadata": {},
   "outputs": [],
   "source": [
    "import numpy as np\n",
    "from numpy.linalg import svd,inv"
   ]
  },
  {
   "cell_type": "code",
   "execution_count": 9,
   "id": "7a3794ff",
   "metadata": {},
   "outputs": [],
   "source": [
    "A = np.array([1,4,5,6,1,7,8,-8,12,6,0,4,9,22,1,-8,-2,11,5,4,3,-3,7,-1,-3]).reshape(5,5)"
   ]
  },
  {
   "cell_type": "code",
   "execution_count": 39,
   "id": "57106236",
   "metadata": {},
   "outputs": [],
   "source": [
    "U,S,Vh = svd(A,full_matrices=False) "
   ]
  },
  {
   "cell_type": "code",
   "execution_count": 40,
   "id": "1f99aee0",
   "metadata": {},
   "outputs": [
    {
     "data": {
      "text/plain": [
       "array([[-0.28219274, -0.06323767, -0.14750849, -0.58354981, -0.74436492],\n",
       "       [-0.40698439,  0.73128266,  0.14357745, -0.38286088,  0.36385772],\n",
       "       [-0.82686372, -0.14584763, -0.21429148,  0.49859348, -0.02255119],\n",
       "       [-0.26650422, -0.59543457,  0.60647133, -0.3419411 ,  0.29950289],\n",
       "       [-0.00168852, -0.2922547 , -0.73749471, -0.3838854 ,  0.47256522]])"
      ]
     },
     "execution_count": 40,
     "metadata": {},
     "output_type": "execute_result"
    }
   ],
   "source": [
    "U"
   ]
  },
  {
   "cell_type": "code",
   "execution_count": 41,
   "id": "068e448c",
   "metadata": {},
   "outputs": [
    {
     "data": {
      "text/plain": [
       "array([[28.76701488,  0.        ,  0.        ,  0.        ,  0.        ],\n",
       "       [ 0.        , 20.04795017,  0.        ,  0.        ,  0.        ],\n",
       "       [ 0.        ,  0.        ,  8.41091195,  0.        ,  0.        ],\n",
       "       [ 0.        ,  0.        ,  0.        ,  4.20968355,  0.        ],\n",
       "       [ 0.        ,  0.        ,  0.        ,  0.        ,  2.65963778]])"
      ]
     },
     "execution_count": 41,
     "metadata": {},
     "output_type": "execute_result"
    }
   ],
   "source": [
    "S = np.diag(S)\n",
    "S"
   ]
  },
  {
   "cell_type": "code",
   "execution_count": 42,
   "id": "3601686a",
   "metadata": {},
   "outputs": [
    {
     "data": {
      "text/plain": [
       "array([[-0.03490509, -0.24868854, -0.29687572, -0.90724754, -0.16031952],\n",
       "       [ 0.44605325,  0.35323079, -0.80180973,  0.12482074,  0.13336209],\n",
       "       [-0.73793676,  0.0833395 , -0.27417523, -0.01268386,  0.61087718],\n",
       "       [-0.3990094 , -0.37227832, -0.43140313,  0.36763024, -0.61720312],\n",
       "       [ 0.30993381, -0.81721808, -0.08766557,  0.16127245,  0.44989064]])"
      ]
     },
     "execution_count": 42,
     "metadata": {},
     "output_type": "execute_result"
    }
   ],
   "source": [
    "Vh"
   ]
  },
  {
   "cell_type": "code",
   "execution_count": 35,
   "id": "d60a5156",
   "metadata": {},
   "outputs": [
    {
     "data": {
      "text/plain": [
       "[0.9999999999999998, 0.9999999999999999, 0.9999999999999997, 1.0, 1.0]"
      ]
     },
     "execution_count": 35,
     "metadata": {},
     "output_type": "execute_result"
    }
   ],
   "source": [
    "[np.linalg.norm(U[:,i]) for i in range(5)]"
   ]
  },
  {
   "cell_type": "code",
   "execution_count": 46,
   "id": "f2558002",
   "metadata": {},
   "outputs": [],
   "source": [
    "At = np.transpose(Vh)@inv(S)@np.transpose(U)"
   ]
  },
  {
   "cell_type": "code",
   "execution_count": 47,
   "id": "23d7ac7a",
   "metadata": {},
   "outputs": [
    {
     "data": {
      "text/plain": [
       "array([[-0.01955441,  0.08285767, -0.0333272 ,  0.00117842,  0.14965936],\n",
       "       [ 0.28018781, -0.06011784, -0.03470816, -0.06396612, -0.12369729],\n",
       "       [ 0.09458663, -0.00248573, -0.02900018,  0.03196465,  0.05951022],\n",
       "       [-0.08736881,  0.00580004,  0.0676671 , -0.00791751, -0.00552384],\n",
       "       [-0.04991714,  0.13524213, -0.08884183,  0.14236789,  0.08072178]])"
      ]
     },
     "execution_count": 47,
     "metadata": {},
     "output_type": "execute_result"
    }
   ],
   "source": [
    "At"
   ]
  },
  {
   "cell_type": "code",
   "execution_count": null,
   "id": "a81f95fd",
   "metadata": {},
   "outputs": [],
   "source": []
  }
 ],
 "metadata": {
  "kernelspec": {
   "display_name": "Python 3 (ipykernel)",
   "language": "python",
   "name": "python3"
  },
  "language_info": {
   "codemirror_mode": {
    "name": "ipython",
    "version": 3
   },
   "file_extension": ".py",
   "mimetype": "text/x-python",
   "name": "python",
   "nbconvert_exporter": "python",
   "pygments_lexer": "ipython3",
   "version": "3.9.7"
  }
 },
 "nbformat": 4,
 "nbformat_minor": 5
}
